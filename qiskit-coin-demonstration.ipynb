{
 "cells": [
  {
   "cell_type": "code",
   "execution_count": 1,
   "id": "hairy-shirt",
   "metadata": {},
   "outputs": [],
   "source": [
    "# I should probably install and import some stuff first real quick..."
   ]
  },
  {
   "cell_type": "code",
   "execution_count": 2,
   "id": "damaged-trade",
   "metadata": {},
   "outputs": [
    {
     "name": "stdout",
     "output_type": "stream",
     "text": [
      "Requirement already satisfied: qiskit in c:\\users\\emily\\miniconda3\\envs\\alinor\\lib\\site-packages (0.30.1)\n",
      "Requirement already satisfied: qiskit-ignis==0.6.0 in c:\\users\\emily\\miniconda3\\envs\\alinor\\lib\\site-packages (from qiskit) (0.6.0)\n",
      "Requirement already satisfied: qiskit-aer==0.9.0 in c:\\users\\emily\\miniconda3\\envs\\alinor\\lib\\site-packages (from qiskit) (0.9.0)\n",
      "Requirement already satisfied: qiskit-ibmq-provider==0.16.0 in c:\\users\\emily\\miniconda3\\envs\\alinor\\lib\\site-packages (from qiskit) (0.16.0)\n",
      "Requirement already satisfied: qiskit-aqua==0.9.5 in c:\\users\\emily\\miniconda3\\envs\\alinor\\lib\\site-packages (from qiskit) (0.9.5)\n",
      "Requirement already satisfied: qiskit-terra==0.18.3 in c:\\users\\emily\\miniconda3\\envs\\alinor\\lib\\site-packages (from qiskit) (0.18.3)\n",
      "Requirement already satisfied: numpy>=1.16.3 in c:\\users\\emily\\miniconda3\\envs\\alinor\\lib\\site-packages (from qiskit-aer==0.9.0->qiskit) (1.20.1)\n",
      "Requirement already satisfied: pybind11>=2.6 in c:\\users\\emily\\miniconda3\\envs\\alinor\\lib\\site-packages (from qiskit-aer==0.9.0->qiskit) (2.6.2)\n",
      "Requirement already satisfied: scipy>=1.0 in c:\\users\\emily\\miniconda3\\envs\\alinor\\lib\\site-packages (from qiskit-aer==0.9.0->qiskit) (1.6.0)\n",
      "Requirement already satisfied: pandas in c:\\users\\emily\\miniconda3\\envs\\alinor\\lib\\site-packages (from qiskit-aqua==0.9.5->qiskit) (1.2.1)\n",
      "Requirement already satisfied: psutil>=5 in c:\\users\\emily\\miniconda3\\envs\\alinor\\lib\\site-packages (from qiskit-aqua==0.9.5->qiskit) (5.8.0)\n",
      "Requirement already satisfied: fastdtw<=0.3.4 in c:\\users\\emily\\miniconda3\\envs\\alinor\\lib\\site-packages (from qiskit-aqua==0.9.5->qiskit) (0.3.4)\n",
      "Requirement already satisfied: quandl in c:\\users\\emily\\miniconda3\\envs\\alinor\\lib\\site-packages (from qiskit-aqua==0.9.5->qiskit) (3.6.0)\n",
      "Requirement already satisfied: dlx<=1.0.4 in c:\\users\\emily\\miniconda3\\envs\\alinor\\lib\\site-packages (from qiskit-aqua==0.9.5->qiskit) (1.0.4)\n",
      "Requirement already satisfied: yfinance>=0.1.62 in c:\\users\\emily\\miniconda3\\envs\\alinor\\lib\\site-packages (from qiskit-aqua==0.9.5->qiskit) (0.1.63)\n",
      "Requirement already satisfied: scikit-learn>=0.20.0 in c:\\users\\emily\\miniconda3\\envs\\alinor\\lib\\site-packages (from qiskit-aqua==0.9.5->qiskit) (0.24.1)\n",
      "Requirement already satisfied: setuptools>=40.1.0 in c:\\users\\emily\\miniconda3\\envs\\alinor\\lib\\site-packages (from qiskit-aqua==0.9.5->qiskit) (52.0.0.post20210125)\n",
      "Requirement already satisfied: docplex>=2.21.207 in c:\\users\\emily\\miniconda3\\envs\\alinor\\lib\\site-packages (from qiskit-aqua==0.9.5->qiskit) (2.22.213)\n",
      "Requirement already satisfied: retworkx>=0.8.0 in c:\\users\\emily\\miniconda3\\envs\\alinor\\lib\\site-packages (from qiskit-aqua==0.9.5->qiskit) (0.10.2)\n",
      "Requirement already satisfied: sympy>=1.3 in c:\\users\\emily\\miniconda3\\envs\\alinor\\lib\\site-packages (from qiskit-aqua==0.9.5->qiskit) (1.7.1)\n",
      "Requirement already satisfied: h5py<3.3.0 in c:\\users\\emily\\miniconda3\\envs\\alinor\\lib\\site-packages (from qiskit-aqua==0.9.5->qiskit) (3.1.0)\n",
      "Requirement already satisfied: requests-ntlm>=1.1.0 in c:\\users\\emily\\miniconda3\\envs\\alinor\\lib\\site-packages (from qiskit-ibmq-provider==0.16.0->qiskit) (1.1.0)\n",
      "Requirement already satisfied: python-dateutil>=2.8.0 in c:\\users\\emily\\miniconda3\\envs\\alinor\\lib\\site-packages (from qiskit-ibmq-provider==0.16.0->qiskit) (2.8.1)\n",
      "Requirement already satisfied: websocket-client>=1.0.1 in c:\\users\\emily\\miniconda3\\envs\\alinor\\lib\\site-packages (from qiskit-ibmq-provider==0.16.0->qiskit) (1.2.1)\n",
      "Requirement already satisfied: urllib3>=1.21.1 in c:\\users\\emily\\miniconda3\\envs\\alinor\\lib\\site-packages (from qiskit-ibmq-provider==0.16.0->qiskit) (1.26.3)\n",
      "Requirement already satisfied: requests>=2.19 in c:\\users\\emily\\miniconda3\\envs\\alinor\\lib\\site-packages (from qiskit-ibmq-provider==0.16.0->qiskit) (2.25.1)\n",
      "Requirement already satisfied: dill>=0.3 in c:\\users\\emily\\miniconda3\\envs\\alinor\\lib\\site-packages (from qiskit-terra==0.18.3->qiskit) (0.3.3)\n",
      "Requirement already satisfied: tweedledum<2.0,>=1.1 in c:\\users\\emily\\miniconda3\\envs\\alinor\\lib\\site-packages (from qiskit-terra==0.18.3->qiskit) (1.1.1)\n",
      "Requirement already satisfied: jsonschema>=2.6 in c:\\users\\emily\\miniconda3\\envs\\alinor\\lib\\site-packages (from qiskit-terra==0.18.3->qiskit) (3.2.0)\n",
      "Requirement already satisfied: python-constraint>=1.4 in c:\\users\\emily\\miniconda3\\envs\\alinor\\lib\\site-packages (from qiskit-terra==0.18.3->qiskit) (1.4.0)\n",
      "Requirement already satisfied: fastjsonschema>=2.10 in c:\\users\\emily\\miniconda3\\envs\\alinor\\lib\\site-packages (from qiskit-terra==0.18.3->qiskit) (2.15.0)\n",
      "Requirement already satisfied: ply>=3.10 in c:\\users\\emily\\miniconda3\\envs\\alinor\\lib\\site-packages (from qiskit-terra==0.18.3->qiskit) (3.11)\n",
      "Requirement already satisfied: six in c:\\users\\emily\\appdata\\roaming\\python\\python39\\site-packages (from docplex>=2.21.207->qiskit-aqua==0.9.5->qiskit) (1.15.0)\n",
      "Requirement already satisfied: pyrsistent>=0.14.0 in c:\\users\\emily\\miniconda3\\envs\\alinor\\lib\\site-packages (from jsonschema>=2.6->qiskit-terra==0.18.3->qiskit) (0.17.3)\n",
      "Requirement already satisfied: attrs>=17.4.0 in c:\\users\\emily\\miniconda3\\envs\\alinor\\lib\\site-packages (from jsonschema>=2.6->qiskit-terra==0.18.3->qiskit) (20.3.0)\n",
      "Requirement already satisfied: chardet<5,>=3.0.2 in c:\\users\\emily\\miniconda3\\envs\\alinor\\lib\\site-packages (from requests>=2.19->qiskit-ibmq-provider==0.16.0->qiskit) (4.0.0)\n",
      "Requirement already satisfied: certifi>=2017.4.17 in c:\\users\\emily\\miniconda3\\envs\\alinor\\lib\\site-packages (from requests>=2.19->qiskit-ibmq-provider==0.16.0->qiskit) (2020.12.5)\n",
      "Requirement already satisfied: idna<3,>=2.5 in c:\\users\\emily\\miniconda3\\envs\\alinor\\lib\\site-packages (from requests>=2.19->qiskit-ibmq-provider==0.16.0->qiskit) (2.10)\n",
      "Requirement already satisfied: ntlm-auth>=1.0.2 in c:\\users\\emily\\miniconda3\\envs\\alinor\\lib\\site-packages (from requests-ntlm>=1.1.0->qiskit-ibmq-provider==0.16.0->qiskit) (1.5.0)\n",
      "Requirement already satisfied: cryptography>=1.3 in c:\\users\\emily\\miniconda3\\envs\\alinor\\lib\\site-packages (from requests-ntlm>=1.1.0->qiskit-ibmq-provider==0.16.0->qiskit) (3.4.2)\n",
      "Requirement already satisfied: cffi>=1.12 in c:\\users\\emily\\miniconda3\\envs\\alinor\\lib\\site-packages (from cryptography>=1.3->requests-ntlm>=1.1.0->qiskit-ibmq-provider==0.16.0->qiskit) (1.14.4)\n",
      "Requirement already satisfied: pycparser in c:\\users\\emily\\miniconda3\\envs\\alinor\\lib\\site-packages (from cffi>=1.12->cryptography>=1.3->requests-ntlm>=1.1.0->qiskit-ibmq-provider==0.16.0->qiskit) (2.20)\n",
      "Requirement already satisfied: threadpoolctl>=2.0.0 in c:\\users\\emily\\miniconda3\\envs\\alinor\\lib\\site-packages (from scikit-learn>=0.20.0->qiskit-aqua==0.9.5->qiskit) (2.1.0)\n",
      "Requirement already satisfied: joblib>=0.11 in c:\\users\\emily\\miniconda3\\envs\\alinor\\lib\\site-packages (from scikit-learn>=0.20.0->qiskit-aqua==0.9.5->qiskit) (1.0.0)\n",
      "Requirement already satisfied: mpmath>=0.19 in c:\\users\\emily\\miniconda3\\envs\\alinor\\lib\\site-packages (from sympy>=1.3->qiskit-aqua==0.9.5->qiskit) (1.1.0)\n",
      "Requirement already satisfied: multitasking>=0.0.7 in c:\\users\\emily\\miniconda3\\envs\\alinor\\lib\\site-packages (from yfinance>=0.1.62->qiskit-aqua==0.9.5->qiskit) (0.0.9)\n",
      "Requirement already satisfied: lxml>=4.5.1 in c:\\users\\emily\\miniconda3\\envs\\alinor\\lib\\site-packages (from yfinance>=0.1.62->qiskit-aqua==0.9.5->qiskit) (4.6.2)\n",
      "Requirement already satisfied: pytz>=2017.3 in c:\\users\\emily\\miniconda3\\envs\\alinor\\lib\\site-packages (from pandas->qiskit-aqua==0.9.5->qiskit) (2021.1)\n",
      "Requirement already satisfied: inflection>=0.3.1 in c:\\users\\emily\\miniconda3\\envs\\alinor\\lib\\site-packages (from quandl->qiskit-aqua==0.9.5->qiskit) (0.5.1)\n",
      "Requirement already satisfied: more-itertools in c:\\users\\emily\\miniconda3\\envs\\alinor\\lib\\site-packages (from quandl->qiskit-aqua==0.9.5->qiskit) (8.7.0)\n",
      "Note: you may need to restart the kernel to use updated packages.\n"
     ]
    }
   ],
   "source": [
    "%pip install qiskit"
   ]
  },
  {
   "cell_type": "code",
   "execution_count": 3,
   "id": "neither-honduras",
   "metadata": {},
   "outputs": [
    {
     "name": "stdout",
     "output_type": "stream",
     "text": [
      "Requirement already satisfied: pylatexenc in c:\\users\\emily\\miniconda3\\envs\\alinor\\lib\\site-packages (2.10)\n",
      "Note: you may need to restart the kernel to use updated packages.\n",
      "Requirement already satisfied: matplotlib in c:\\users\\emily\\miniconda3\\envs\\alinor\\lib\\site-packages (3.4.3)\n",
      "Requirement already satisfied: pillow>=6.2.0 in c:\\users\\emily\\miniconda3\\envs\\alinor\\lib\\site-packages (from matplotlib) (8.3.2)\n",
      "Requirement already satisfied: python-dateutil>=2.7 in c:\\users\\emily\\miniconda3\\envs\\alinor\\lib\\site-packages (from matplotlib) (2.8.1)\n",
      "Requirement already satisfied: cycler>=0.10 in c:\\users\\emily\\miniconda3\\envs\\alinor\\lib\\site-packages (from matplotlib) (0.10.0)\n",
      "Requirement already satisfied: numpy>=1.16 in c:\\users\\emily\\miniconda3\\envs\\alinor\\lib\\site-packages (from matplotlib) (1.20.1)\n",
      "Requirement already satisfied: pyparsing>=2.2.1 in c:\\users\\emily\\miniconda3\\envs\\alinor\\lib\\site-packages (from matplotlib) (2.4.7)\n",
      "Requirement already satisfied: kiwisolver>=1.0.1 in c:\\users\\emily\\miniconda3\\envs\\alinor\\lib\\site-packages (from matplotlib) (1.3.2)\n",
      "Requirement already satisfied: six in c:\\users\\emily\\appdata\\roaming\\python\\python39\\site-packages (from cycler>=0.10->matplotlib) (1.15.0)\n",
      "Note: you may need to restart the kernel to use updated packages.\n"
     ]
    }
   ],
   "source": [
    "%pip install pylatexenc\n",
    "%pip install matplotlib"
   ]
  },
  {
   "cell_type": "code",
   "execution_count": 4,
   "id": "secret-population",
   "metadata": {},
   "outputs": [],
   "source": [
    "from qiskit import QuantumCircuit, QuantumRegister, ClassicalRegister, BasicAer, execute\n",
    "from qiskit.quantum_info import Statevector\n",
    "import numpy as np\n",
    "from qiskit.visualization import plot_histogram, plot_state_qsphere, plot_bloch_multivector, plot_bloch_vector\n",
    "import getpass"
   ]
  },
  {
   "cell_type": "code",
   "execution_count": 5,
   "id": "progressive-anchor",
   "metadata": {},
   "outputs": [
    {
     "data": {
      "image/png": "[encoded data removed]",
      "text/plain": [
       "<Figure size 116.407x144.48 with 1 Axes>"
      ]
     },
     "execution_count": 5,
     "metadata": {},
     "output_type": "execute_result"
    }
   ],
   "source": [
    "    # Let's make a quantum circuit!\n",
    "    \n",
    "    #I want my circuit to have a quantum register of a single bit...\n",
    "    q = QuantumRegister(1)\n",
    "    \n",
    "    # ...and a classical register of a single bit!\n",
    "    c = ClassicalRegister(1)\n",
    "    \n",
    "    # Now, let's make the circuit! The circuit will take in \n",
    "    # two parameters: my quantum register and classical register!\n",
    "    quantum_circuit = QuantumCircuit(q, c)\n",
    "    \n",
    "    # Say, what does my circuit look like so far? Huh, looks pretty empty.\n",
    "    quantum_circuit.draw('mpl')\n",
    "    # Huh, looks pretty empty. But it looks like that top line is my quantum\n",
    "    # register and that bottom line is my classical register"
   ]
  },
  {
   "cell_type": "code",
   "execution_count": 6,
   "id": "fleet-circuit",
   "metadata": {},
   "outputs": [
    {
     "data": {
      "image/png": "[encoded data removed]",
      "text/plain": [
       "<Figure size 146.507x144.48 with 1 Axes>"
      ]
     },
     "execution_count": 6,
     "metadata": {},
     "output_type": "execute_result"
    }
   ],
   "source": [
    "    # I want to add something to it! Let's use an identity gate on the single bit\n",
    "    # in the quantum register\n",
    "    quantum_circuit.i(q[0])\n",
    "    \n",
    "    # I hope my circuit looks different!\n",
    "    quantum_circuit.draw('mpl')\n",
    "    # Oh, hey, there's my identity gate! Or for short, my I-gate!"
   ]
  },
  {
   "cell_type": "code",
   "execution_count": 7,
   "id": "baking-benefit",
   "metadata": {},
   "outputs": [
    {
     "data": {
      "image/png": "[encoded data removed]",
      "text/plain": [
       "<Figure size 206.707x144.48 with 1 Axes>"
      ]
     },
     "execution_count": 7,
     "metadata": {},
     "output_type": "execute_result"
    }
   ],
   "source": [
    "    # That's great and all, but I wanna play with superposition! \n",
    "    # Let's add a hadamard gate, or an H-gate!\n",
    "    quantum_circuit.h(q[0])\n",
    "    # Let's look now:\n",
    "    quantum_circuit.draw('mpl')\n",
    "    # There it is! We've added an h-gate!"
   ]
  },
  {
   "cell_type": "code",
   "execution_count": 8,
   "id": "canadian-division",
   "metadata": {},
   "outputs": [
    {
     "data": {
      "image/png": "[encoded data removed]",
      "text/plain": [
       "<Figure size 266.907x144.48 with 1 Axes>"
      ]
     },
     "execution_count": 8,
     "metadata": {},
     "output_type": "execute_result"
    }
   ],
   "source": [
    "    # What happens if I measure my bit... how do I do that again?\n",
    "    quantum_circuit.measure(q, c)\n",
    "    # Ooh! Did that change my circuit at all?\n",
    "    quantum_circuit.draw('mpl')\n",
    "    # Huh, it did! Looks like we're measuring it into a classical bit"
   ]
  },
  {
   "cell_type": "code",
   "execution_count": 17,
   "id": "japanese-angle",
   "metadata": {},
   "outputs": [
    {
     "data": {
      "image/png": "[encoded data removed]",
      "text/plain": [
       "<Figure size 504x360 with 1 Axes>"
      ]
     },
     "execution_count": 17,
     "metadata": {},
     "output_type": "execute_result"
    }
   ],
   "source": [
    "    # Rerun this cell about 10 times. What do you notice about the output?\n",
    "    backend = BasicAer.get_backend('qasm_simulator')\n",
    "    counts=execute(quantum_circuit, backend, shots=1).result().get_counts(quantum_circuit)\n",
    "    plot_histogram(counts)"
   ]
  },
  {
   "cell_type": "code",
   "execution_count": 10,
   "id": "circular-gibraltar",
   "metadata": {},
   "outputs": [],
   "source": [
    "    # Sometimes, my output is 1, and sometimes it's 0!\n",
    "    # My code almost acts like a coin flip! I guess it has\n",
    "    # something to do with measuring my qubit after putting an h-gate...\n",
    "    # ...I wonder what else I could do with qiskit!"
   ]
  }
 ],
 "metadata": {
  "kernelspec": {
   "display_name": "Python 3",
   "language": "python",
   "name": "python3"
  },
  "language_info": {
   "codemirror_mode": {
    "name": "ipython",
    "version": 3
   },
   "file_extension": ".py",
   "mimetype": "text/x-python",
   "name": "python",
   "nbconvert_exporter": "python",
   "pygments_lexer": "ipython3",
   "version": "3.9.1"
  }
 },
 "nbformat": 4,
 "nbformat_minor": 5
}
